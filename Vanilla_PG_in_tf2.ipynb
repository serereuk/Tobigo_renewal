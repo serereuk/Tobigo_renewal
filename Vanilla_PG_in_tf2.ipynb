{
  "nbformat": 4,
  "nbformat_minor": 0,
  "metadata": {
    "colab": {
      "name": "Vanilla PG in tf2.ipynb",
      "provenance": [],
      "collapsed_sections": [],
      "include_colab_link": true
    },
    "kernelspec": {
      "name": "python3",
      "display_name": "Python 3"
    }
  },
  "cells": [
    {
      "cell_type": "markdown",
      "metadata": {
        "id": "view-in-github",
        "colab_type": "text"
      },
      "source": [
        "<a href=\"https://colab.research.google.com/github/serereuk/Tobigo_renewal/blob/master/Vanilla_PG_in_tf2.ipynb\" target=\"_parent\"><img src=\"https://colab.research.google.com/assets/colab-badge.svg\" alt=\"Open In Colab\"/></a>"
      ]
    },
    {
      "cell_type": "code",
      "metadata": {
        "id": "HOxjV0PUkcFe",
        "colab_type": "code",
        "colab": {
          "base_uri": "https://localhost:8080/",
          "height": 34
        },
        "outputId": "6ab845d3-9fce-4a84-d0ad-9f855b47bab3"
      },
      "source": [
        "%tensorflow_version 2.x"
      ],
      "execution_count": 1,
      "outputs": [
        {
          "output_type": "stream",
          "text": [
            "TensorFlow 2.x selected.\n"
          ],
          "name": "stdout"
        }
      ]
    },
    {
      "cell_type": "code",
      "metadata": {
        "id": "mfgwkormkgEN",
        "colab_type": "code",
        "colab": {}
      },
      "source": [
        "import tensorflow as tf\n",
        "import numpy as np\n",
        "import gym\n",
        "#tf.keras.backend.set_floatx('float64')"
      ],
      "execution_count": 0,
      "outputs": []
    },
    {
      "cell_type": "code",
      "metadata": {
        "id": "VXwxg7jlKDqe",
        "colab_type": "code",
        "colab": {
          "base_uri": "https://localhost:8080/",
          "height": 255
        },
        "outputId": "06acea35-ae78-47d8-e7db-2b6ab4e0dbac"
      },
      "source": [
        "agent_input = tf.keras.Input(shape = 4, name = 'state')\n",
        "x = tf.keras.layers.Dense(32, activation=tf.nn.relu)(agent_input)\n",
        "output = tf.keras.layers.Dense(2, activation=tf.nn.softmax)(x)\n",
        "agent = tf.keras.Model(agent_input, output, name = 'agent')\n",
        "optim = tf.keras.optimizers.Adam(lr = 0.01)\n",
        "losses = tf.keras.losses.SparseCategoricalCrossentropy(from_logits=True)\n",
        "agent.summary()"
      ],
      "execution_count": 16,
      "outputs": [
        {
          "output_type": "stream",
          "text": [
            "Model: \"agent\"\n",
            "_________________________________________________________________\n",
            "Layer (type)                 Output Shape              Param #   \n",
            "=================================================================\n",
            "state (InputLayer)           [(None, 4)]               0         \n",
            "_________________________________________________________________\n",
            "dense_6 (Dense)              (None, 32)                160       \n",
            "_________________________________________________________________\n",
            "dense_7 (Dense)              (None, 2)                 66        \n",
            "=================================================================\n",
            "Total params: 226\n",
            "Trainable params: 226\n",
            "Non-trainable params: 0\n",
            "_________________________________________________________________\n"
          ],
          "name": "stdout"
        }
      ]
    },
    {
      "cell_type": "code",
      "metadata": {
        "id": "4Hk-Zr5qatRa",
        "colab_type": "code",
        "colab": {}
      },
      "source": [
        "def discount(reward, gamma=0.8):\n",
        "    discounted = []\n",
        "    R = 0\n",
        "    for i in reward[::-1]:\n",
        "        R = i + gamma*R\n",
        "        discounted.append(R)\n",
        "    return discounted[::-1]"
      ],
      "execution_count": 0,
      "outputs": []
    },
    {
      "cell_type": "code",
      "metadata": {
        "id": "DVZHG4YNkr7r",
        "colab_type": "code",
        "colab": {
          "base_uri": "https://localhost:8080/",
          "height": 224
        },
        "outputId": "55714307-14a7-4be7-f124-95a9a9a4fe32"
      },
      "source": [
        "env = gym.make('CartPole-v0')\n",
        "data = []\n",
        "score = []\n",
        "gamma = 0.98\n",
        "print_interval = 100\n",
        "\n",
        "gradBuffer = agent.trainable_variables\n",
        "for ix,grad in enumerate(gradBuffer):\n",
        "  gradBuffer[ix] = grad * 0\n",
        "\n",
        "for n_epi in range(2000):\n",
        "    ep_memory = []\n",
        "    ep_score = 0\n",
        "    s = env.reset()\n",
        "    done = False\n",
        "    while not done:\n",
        "        s = s.reshape(1,4)\n",
        "        with tf.GradientTape() as tape:\n",
        "            prob = agent(s)\n",
        "            a = tf.random.categorical(prob, 1).numpy().squeeze()\n",
        "            loss = losses([a], prob)\n",
        "        s, r, done, info = env.step(a)\n",
        "        ep_score += r\n",
        "        if done:\n",
        "            r -= 10\n",
        "        grads = tape.gradient(loss, agent.trainable_variables)\n",
        "        ep_memory.append([grads, r])\n",
        "\n",
        "    ep_memory = np.array(ep_memory)\n",
        "    ep_memory[:,1] = discount(ep_memory[:,1])\n",
        "    score.append(ep_score)\n",
        "\n",
        "    for grads, r in ep_memory:\n",
        "        for ix, grad in enumerate(grads):\n",
        "            gradBuffer[ix] += grad * r\n",
        "\n",
        "    optim.apply_gradients(zip(gradBuffer, agent.trainable_variables))\n",
        "    for ix,grad in enumerate(gradBuffer):\n",
        "        gradBuffer[ix] = grad * 0\n",
        "\n",
        "    if n_epi % print_interval == 0:\n",
        "        print('Episode: ', n_epi, \"Score: \", np.mean(score[-100:]))\n",
        "\n",
        "        "
      ],
      "execution_count": 0,
      "outputs": [
        {
          "output_type": "stream",
          "text": [
            "WARNING:tensorflow:Layer dense_6 is casting an input tensor from dtype float64 to the layer's dtype of float32, which is new behavior in TensorFlow 2.  The layer has dtype float32 because it's dtype defaults to floatx.\n",
            "\n",
            "If you intended to run this layer in float32, you can safely ignore this warning. If in doubt, this warning is likely only an issue if you are porting a TensorFlow 1.X model to TensorFlow 2.\n",
            "\n",
            "To change all layers to have dtype float64 by default, call `tf.keras.backend.set_floatx('float64')`. To change just this layer, pass dtype='float64' to the layer constructor. If you are the author of this layer, you can disable autocasting by passing autocast=False to the base Layer constructor.\n",
            "\n",
            "Episode:  0 Score:  27.0\n",
            "Episode:  100 Score:  47.17\n",
            "Episode:  200 Score:  82.08\n",
            "Episode:  300 Score:  73.78\n",
            "Episode:  400 Score:  88.65\n"
          ],
          "name": "stdout"
        }
      ]
    },
    {
      "cell_type": "code",
      "metadata": {
        "id": "Rr0BmDsnhpL0",
        "colab_type": "code",
        "colab": {
          "base_uri": "https://localhost:8080/",
          "height": 68
        },
        "outputId": "9b327509-2890-472f-849f-9d641a130eb3"
      },
      "source": [
        "ep_memory[:,1]"
      ],
      "execution_count": 9,
      "outputs": [
        {
          "output_type": "execute_result",
          "data": {
            "text/plain": [
              "array([-9.0, -6.2, -3.960000000000001, -2.168000000000001,\n",
              "       -0.7344000000000008, 0.4124799999999993, 1.3299839999999994,\n",
              "       2.0639871999999997, 2.65118976, 3.120951808], dtype=object)"
            ]
          },
          "metadata": {
            "tags": []
          },
          "execution_count": 9
        }
      ]
    },
    {
      "cell_type": "code",
      "metadata": {
        "id": "z24IWIAGlO2T",
        "colab_type": "code",
        "colab": {}
      },
      "source": [
        ""
      ],
      "execution_count": 0,
      "outputs": []
    }
  ]
}